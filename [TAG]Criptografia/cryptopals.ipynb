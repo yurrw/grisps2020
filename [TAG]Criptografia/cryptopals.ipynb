{
  "nbformat": 4,
  "nbformat_minor": 0,
  "metadata": {
    "kernelspec": {
      "display_name": "Python 3",
      "language": "python",
      "name": "python3"
    },
    "language_info": {
      "codemirror_mode": {
        "name": "ipython",
        "version": 3
      },
      "file_extension": ".py",
      "mimetype": "text/x-python",
      "name": "python",
      "nbconvert_exporter": "python",
      "pygments_lexer": "ipython3",
      "version": "3.8.1"
    },
    "colab": {
      "name": "cryptopals.ipynb",
      "provenance": [],
      "collapsed_sections": [],
      "toc_visible": true
    }
  },
  "cells": [
    {
      "cell_type": "markdown",
      "metadata": {
        "id": "-LJ06Yh-PtqM",
        "colab_type": "text"
      },
      "source": [
        "## TAG CRIPTOGRAFIA - cryptopals.com\n",
        "#### Por: Yuri Medeiros da silva\n",
        "#### Responsável: Sidney gris\n",
        "\n",
        "---"
      ]
    },
    {
      "cell_type": "code",
      "metadata": {
        "id": "fa15_e6gPtqX",
        "colab_type": "code",
        "colab": {}
      },
      "source": [
        "# !/usr/bin/env python3.6\n",
        "import textwrap\n",
        "string = \"49276d206b696c6c696e6720796f757220627261696e206c696b65206120706f69736\\\n",
        "f6e6f7573206d757368726f6f6d\""
      ],
      "execution_count": 0,
      "outputs": []
    },
    {
      "cell_type": "markdown",
      "metadata": {
        "id": "jAeuUko2Ptqq",
        "colab_type": "text"
      },
      "source": [
        "Antes de começarmos temos que definidir algumas funções de validaçoes para a primeira challenge :\n",
        "\n",
        "    validator:  confere se a resposta final está correta\n",
        "    validator16to2: confere se a conversão de hexa pra binário está certa\n"
      ]
    },
    {
      "cell_type": "code",
      "metadata": {
        "id": "rynkhqsGPtqs",
        "colab_type": "code",
        "colab": {}
      },
      "source": [
        "'''\n",
        "https://cryptopals.com/sets/1/challenges/1\n",
        "hex -> base64\n",
        "hex: 49276d206b696c6c696e6720796f757220627261696e206c696b65206120706f69736f6e6f\\\n",
        "7573206d757368726f6f6d\n",
        "output : SSdtIGtpbGxpbmcgeW91ciBicmFpbiBsaWtlIGEgcG9pc29ub3VzIG11c2hyb29t\n",
        "'''\n",
        "def validator(output):\n",
        "    b64string = \"SSdtIGtpbGxpbmcgeW91ciBicmFpbiBsaWtlIGEgcG9pc29ub3VzIG11c2hy\\\n",
        "    b29t\"\n",
        "    if str(output) == str(b64string) :\n",
        "        print(\"FFrom hex to b64 with success!\")\n",
        "        return True\n",
        "    else:\n",
        "        print(\"Failed!\")\n",
        "        print(\"out:\" + str(output) + \"\\n\")\n",
        "        print(\"expected:\" + str(b64string))\n",
        "    return False\n",
        "\n",
        "def validator16to2(output):\n",
        "    binstring = \"010010010010011101101101001000000110101101101001011011000110\\\n",
        "    1100011010010110111001100111001000000111100101101111011101010111001000100\\\n",
        "    0000110001001110010011000010110100101101110001000000110110001101001011010\\\n",
        "    1101100101001000000110000100100000011100000110111101101001011100110110111\\\n",
        "    1011011100110111101110101011100110010000001101101011101010111001101101000\\\n",
        "    01110010011011110110111101101101\"\n",
        "    if str(output) == str(binstring) :\n",
        "        print(\"FFrom hex to bin with success!\")\n",
        "        return True\n",
        "    else:\n",
        "        print(\"Failed!\")\n",
        "        print(\"out:    \" + str(output) + \"\\n\")\n",
        "        print(\"expected:    \" + binstring)\n",
        "    return False"
      ],
      "execution_count": 0,
      "outputs": []
    },
    {
      "cell_type": "markdown",
      "metadata": {
        "id": "2KZG5ZZMPtq6",
        "colab_type": "text"
      },
      "source": [
        "A primeira challenge do cryptopals (https://cryptopals.com/sets/1/challenges/1) tem o nome \"Convert hexConvert hex to base64 to base64\". \n",
        "Basicamente recebemos como\n",
        "        input: uma string em hexadecimal\n",
        "        output: a string anterior em base64\n",
        "\n",
        "Mas antes de partírmos pro código é necessário saber como _essas coisas_ de base64 funcionam\n",
        "\n",
        "### o que é base64 ?\n",
        "\n",
        "        É uma forma de encoding usada principalmente para transmissão de\n",
        "        dados com propósito de manter a 'integridade'. Ou seja, aquilo que\n",
        "        enviamos é aquilo que chegará do outro lado. \n",
        " \n",
        "   Base64 está longe de ser um protocolo considerado seguro, qualquer um com acesso a um computador conseguiria decodificar a mensagem que ele encoda. Ainda mais, qualquer um que soubesse como o algorítmo funciona conseguiria decodificar a mensagem transmitida na mão - por mais que isso possa demorar algum tempo. Entretanto, ela continua sendo utilizado até hoje pois mantém a integridade dos dados transmitidos. \n",
        "\n",
        "#### Ok, mas porque nao enviar os bytes crus do que queremos transmitir ao invés de transformar em outra mensagem ?\n",
        "   \n",
        "   Tranformar os bytes crus em 'letras' é importante porque, ao enviar uma imagem ou binario pra outra pessoa, dependendo do protocolo que esteja sendo utilizado podemos ter alguns conflitos entre o arquivo enviado e o protocolo (conflitos do tipo: caracteres inválidos, entre outros), ou seja, não teríamos certeza se o que enviamos chega da forma que queremos do outro lado.\n",
        "   \n",
        "A citação a baixo explicita muito bem o porque de usarmos base64, achei importante colocá-la aqui em sua forma original.\n",
        "\n",
        "   [*To figuratively understand why Base64 was invented, imagine that during a phone call Alice wants to send an image to Bob. The first problem is that she cannot simply describe how the image looks, because Bob needs an exact copy. In this case, Alice may convert the image into the binary system and dictate to Bob the binary digits (bits), after that he will be able to convert them back to the original image. The second problem is that the tariffs for phone calls are too expensive and dictate each byte as 8 binary digits will last too long. To reduce costs, Alice and Bob agree to use a more efficient data transfer method by using a special alphabet, which replaces every “six digits” with one “letter”.*](https://base64.guru/learn/what-is-base64)\n",
        "\n",
        "\n",
        "#### Como esse encoding funciona ?\n",
        "\n",
        "Bytes são comumente separados de 8 em 8 bits, ao utilizarmos base64 iremos repartir esses bytes de 6 em 6 bits, o que faz com que cada 3 bytes anteriores formem 4 novos bytes (3*8 = 4*6).\n",
        "Dado um conjunto de bits, por exemplo : \n",
        "    \n",
        "        01111001 01110101 01110010 01101001\n",
        "\n",
        "        Dividimos de 6 em 6 bits\n",
        "        011110 010111 010101 110010 011010 01\n",
        "\n",
        "        Mas, nos deparamos com um problema, o ultimo conjunto nao está completo. \n",
        "        Para completarmos precisamos aplicar o que chamamos de padding (explicado \n",
        "        mais a baixo) \n",
        "        Agora completamos com 0\n",
        "        011110 010111 010101 110010 011010 010000\n",
        "\n",
        "        Agora convertemos cada um desses bytes em seu numero decimal correspondente e \n",
        "        depois consultamos sua posição na tabela do base64\n",
        "        30     23     21     50     26     16\n",
        "        ABCDEFGHIJKLMNOPQRSTUVWXYZabcdefghijklmnopqrstuvwxyz0123456789+/ [<-tabela]\n",
        "        começamos a contar do A, de forma que o caracter na posição 30 é o e, 23 = X\n",
        "        \n",
        "        convertido teremos : \n",
        "        e      x      v       y      a     q    =   =\n",
        "        (os == serão explicados mais abaixo) \n",
        "        por fim, temos que  : \n",
        "            yuri virou exvyaq==\n",
        "\n",
        "\n",
        "\n",
        "#### Padding\n",
        "\n",
        "\n",
        "Como a ultima \"casa\" no exemplo nao está completa, precisamos completá-la e chamamos isso de padding. Para isso acrescentamos 0 (zeros) depois do ultimo bit até termos 6 bits. Mas e os '=' '==' que sempre aparecem ? Como em base64 cada 3 bytes viram 4(3*8 = 4*6 = 24) precisamos que a cadeia encodada tenha tamanho de 24 bits, caso nao tenha completamos com '=', se faltar um byte de 6 completamos com um =, se faltar dois bytes de 6 completamos com 2 '==', se tivermos algo maior que 24 bits, completamos até o proximo multiplo de 24, 48,... (em alguns sistemas vemos implementações um pouco diferentes de como o padding com o = funciona, de fato, hoje em dia, algumas vezes ele é ignoradado, a 'antiga' necessidade dele nasceu pois ser multiplo de 2 facilita o acesso na memória e na paginação dos bits.\n",
        "\n",
        "====\n",
        "\n",
        "obs:\n",
        "\n",
        "digo que varia pq em varios sites ao converter yuri pra base64 tenho o output \"eXVyaQ==\", mas utilizando o base64 do linux tenho só \"eXVyaQ=\"\n",
        "\n",
        "\n",
        "https://en.wikipedia.org/wiki/Base64#Output_padding\n",
        "\n",
        "\n",
        "---\n",
        "\n",
        "\n",
        " "
      ]
    },
    {
      "cell_type": "markdown",
      "metadata": {
        "id": "-23HVSXPPtrF",
        "colab_type": "text"
      },
      "source": [
        "Essa é a primeira parte do nosso código que entrará em execução, dado a string em hexadecimal convertemos ela para binario.\n",
        "\n",
        "### O que é hexadecimal ?\n",
        "\n",
        "  É um sistema numerico que \"conta\" até o 16, e para isso ele utiliza, também, alguns simbolos.\n",
        "\n",
        "    1 2 3 4 5 6 7 8 9 A B C D E F\n",
        "\n",
        "### Porque utilizamos hexadecimal ?\n",
        "\n",
        " Principalmente pelo fator compressão - apenas com dois digitos hexadecimais conseguimos expressar de 0-255, e, também, pela compatibilidade com \"binário\"/ base2, visto que 2^4 é 16, o ponto aqui é que :\n",
        "\n",
        " (caso a imagem nao renderize: https://miro.medium.com/max/652/1*1NGffiR_VdV4F7DKSyJ70A.png)\n",
        " ![imagem](https://miro.medium.com/max/652/1*1NGffiR_VdV4F7DKSyJ70A.png)\n",
        "\n",
        "\n",
        "  Podemos ver que o binario e o decimal nunca se casam, já o binario e o hexa sim (eles se casam no 16 e no 255), ou seja, cada 4 bits do binario ( 1000 = 16 0x10) representa um bit no hexadecimal, e esse alinhamento nos ajuda a representar as coisas, endereços de memoria ..., melhorando a forma de acessos, paginacao ... \n",
        "\n",
        "\n",
        "(https://medium.com/@savas/why-do-we-use-hexadecimal-d6d80b56f026\n",
        ")\n"
      ]
    },
    {
      "cell_type": "code",
      "metadata": {
        "id": "yxoXMBTkPtrI",
        "colab_type": "code",
        "colab": {}
      },
      "source": [
        "# 0000\n",
        "def hex2bin(hex_str):\n",
        "    int_ = int(hex_str,16)\n",
        "    bin_str = \"\"\n",
        "    # poderiamos usar a funcao a baixo, mas codamos na mao a conversao\n",
        "    # de hexa -> bin -->> bin_str2 = str(bin(int_).replace(\"0b\", \"0\"))\n",
        "\n",
        "    while int_ > 0: \n",
        "        bin_str = str(int_ % 2) + bin_str\n",
        "        int_ = int_ >> 1\n",
        "    bin_str =  \"0\"*(4 - len(bin_str)) + bin_str\n",
        "    # por algum motivo ele tira o 0 da frente,\n",
        "    # segundo um cara na internet isso também acontece com ruby\n",
        "    \n",
        "    bin_str =  \"0\" + bin_str \n",
        "    \n",
        "    return bin_str\n"
      ],
      "execution_count": 0,
      "outputs": []
    },
    {
      "cell_type": "code",
      "metadata": {
        "id": "hKpzl_jyPtrO",
        "colab_type": "code",
        "colab": {},
        "outputId": "da3afb39-79d0-4002-c53b-7bd336ea6f13"
      },
      "source": [
        "def challenge1():\n",
        "    binstr = hex2bin(\"49276d206b696c6c696e6720796f757220627261696e206c696b6520\\\n",
        "    6120706f69736f6e6f7573206d757368726f6f6d\")\n",
        "    ret = b64encode(binstr)\n",
        "    validator(ret)\n",
        "    print(ret)\n",
        "    \n",
        "challenge1()\n",
        "    "
      ],
      "execution_count": 0,
      "outputs": [
        {
          "output_type": "stream",
          "text": [
            "FFrom hex to b64 with success!\n",
            "SSdtIGtpbGxpbmcgeW91ciBicmFpbiBsaWtlIGEgcG9pc29ub3VzIG11c2hyb29t\n"
          ],
          "name": "stdout"
        }
      ]
    },
    {
      "cell_type": "markdown",
      "metadata": {
        "id": "WciEZhQnPtrX",
        "colab_type": "text"
      },
      "source": [
        "## Challenge2\n",
        "https://cryptopals.com/sets/1/challenges/2\n",
        "\n",
        "Dado duas entradas de mesmo tamanho fazer o xor entre elas\n",
        "\n",
        "        str1 = 1c0111001f010100061a024b53535009181c\n",
        "        str2 = 686974207468652062756c6c277320657965\n",
        "        output = 746865206b696420646f6e277420706c6179"
      ]
    },
    {
      "cell_type": "code",
      "metadata": {
        "id": "m6s2vVVlPtrZ",
        "colab_type": "code",
        "colab": {}
      },
      "source": [
        "def validatorChallenge2(output):\n",
        "    expected = \"746865206b696420646f6e277420706c6179\"\n",
        "    if str(output) == expected:\n",
        "        print(\"Funcionou\")\n",
        "        return True\n",
        "    else:\n",
        "        print(\"==ERRO \\n sua saída:\"+ str(output) + \"\\n saida esperada:\" +\n",
        "              str(expected))\n",
        "        return False\n",
        "        "
      ],
      "execution_count": 0,
      "outputs": []
    },
    {
      "cell_type": "markdown",
      "metadata": {
        "id": "3LElMdMlPtrh",
        "colab_type": "text"
      },
      "source": [
        "#### O que é um XOR?\n",
        "\n",
        "Xor é uma operação lógica que, dado duas entradas A e B, ela retorna o valor verdadeiro (1) caso uma entrada tenha o valor diferente da outra.\n",
        "\n",
        "Tabela verdade da operação :\n",
        "\n",
        " A | B  | OUTPUT\n",
        "\n",
        " 0 | 1  | 1 \n",
        "\n",
        " 0 | 0  | 0\n",
        " \n",
        " 1 | 1  | 0\n",
        "\n",
        " 1 | 0  | 1\n",
        "\n",
        "#### Porque essa operação é tão usada na criptografia ?\n",
        "\n",
        "A primeira razão é que Xor é uma função que se aplicada nela mesmo ela volta pro valor original, ou seja, se tivermos uma string A (string) e uma chave B, e aplicamos o xor de B em A teremos a string encriptada C. Como xor é uma função que aplicada a ela mesmo ela retorna pro valor inicial, ao aplicarmos B xor C teremos A. \n",
        "\n",
        "A segunda razão é que é uma funcao que não _perde informação_. O que isso quer dizer, se utilizassemos um 'and' na nossa string A com B, poderiamos fazer um bruteforce com uma sequencia de 1's, e saberiamos onde todos os 1s estao, porque na tabela logica do and, só da 1 se ambos os lados forem 1, com o OR os 0's seriam leakados (bruteforce nos 0s).\n",
        "Já com o XOR, para termos um output 1 podemos ter como entrada 0 ou 1 e para ter o output 0 também podemos ter duas entradas possíveis, dificultando um possível bruteforce.\n",
        "\n",
        "https://stackoverflow.com/questions/1379952/why-is-xor-used-in-cryptography\n",
        "\n"
      ]
    },
    {
      "cell_type": "code",
      "metadata": {
        "id": "Lvo1q-GfPtrj",
        "colab_type": "code",
        "colab": {}
      },
      "source": [
        "'''\n",
        "essa funcao recebe duas 'strings binarias' \n",
        "'''\n",
        "def xor2xor(in1,in2):\n",
        "    tam = len(in1) # tem o mesmo tamanho os dois\n",
        "    ans = \"\"\n",
        "    for i in range(0, len(in1)):\n",
        "        # int pra converter de char/string pra int\n",
        "        ans += str(int(in1[i]) ^ int(in2[i]))  \n",
        "    return ans"
      ],
      "execution_count": 0,
      "outputs": []
    },
    {
      "cell_type": "code",
      "metadata": {
        "id": "Kavoy752Ptrq",
        "colab_type": "code",
        "colab": {},
        "outputId": "9752377a-af0b-4c8d-e966-3eb0e96c6914"
      },
      "source": [
        "str1 = \"1c0111001f010100061a024b53535009181c\"\n",
        "str2 = \"686974207468652062756c6c277320657965\"\n",
        "\n",
        "def challenge2():\n",
        "    ans = \"\"\n",
        "    for i in range(0,len(str1)):\n",
        "        # \n",
        "        v1 = hex2bin(str1[i])\n",
        "        v2 = hex2bin(str2[i])\n",
        "        ans += hex(int(xor2xor(v1,v2),2))\n",
        "    \n",
        "    ans = ans.replace('0x', '')\n",
        "    validatorChallenge2(ans)\n",
        "    return ans\n",
        "    \n",
        "print(challenge2())\n",
        "#xored = int(xor2xor(vim,vim2),2)"
      ],
      "execution_count": 0,
      "outputs": [
        {
          "output_type": "stream",
          "text": [
            "Funcionou\n",
            "746865206b696420646f6e277420706c6179\n"
          ],
          "name": "stdout"
        }
      ]
    },
    {
      "cell_type": "markdown",
      "metadata": {
        "id": "XG2n8EbYPtrw",
        "colab_type": "text"
      },
      "source": [
        "## challenge 5\n",
        "Para última challenge da TAG foi feita a challenge 5  ( https://cryptopals.com/sets/1/challenges/5 )\n",
        "Basicamente ela faz uso dos últimos códigos e consiste em pegar uma string :\n",
        "\n",
        "            Burning 'em, if you ain't quick and nimble\n",
        "            I go crazy when I hear a cymbal\n",
        "e aplicar uma chave pra encriptarmos ela com o xor. no caso a chave é _ICE_. \n",
        "\n",
        "Como a chave é menos que a string completa, vamos aplicando ICE até o final repetidamente.\n",
        "\n",
        "    ICEICEICEICEIC...\n",
        "    letra por letra."
      ]
    },
    {
      "cell_type": "code",
      "metadata": {
        "id": "cK3SV1x2Ptry",
        "colab_type": "code",
        "colab": {},
        "outputId": "88cd5c4a-b113-429e-a001-4cc44b4acb59"
      },
      "source": [
        "str1 = b\"Burning 'em, if you ain't quick and nimble\\nI go crazy when I hear\\\n",
        " a cymbal\"\n",
        "key  = b\"ICE\"\n",
        "\n",
        "# zerofill deixa os dois bytes, o da chave e o da string do mesmo tamanho .\n",
        "# ele coloca zeros na frente até terem o mesmo tamanho\n",
        "def zerofill(st,l):\n",
        "    return '0'*(l - len(st)) + st\n",
        "\n",
        "# esse xor2xor2 eh a mesma coisa que o xor2xor, eu so mudei ele porque estava \n",
        "# tendo problemas e achei que poderia ser ele\n",
        "# e,claro, ele usa list comprehension\n",
        "# como gostei da solucao com listcomprehension resolvei deixar\n",
        "def xor2xor2(in1,in2):\n",
        "    '''\n",
        "    tam = len(in1) # tem o mesmo tamanho os dois\n",
        "    ans = \"\"\n",
        "    for i in range(0, len(in1)):\n",
        "        ans += str(int(in1[i]) ^ int(in2[i])) \n",
        "    '''\n",
        "    return ([int(in1[i]) ^ int(in2[i]) for i in range(len(in1))])\n",
        "def ch5(s,key):\n",
        "    i_key = 0 # index of key, max = 2... 0,1,2\n",
        "    keyBin = []\n",
        "\n",
        "    for byte in key :\n",
        "        keyBin.append(format(byte,'b'))\n",
        "\n",
        "    ans =  ''\n",
        "    for byte in s:\n",
        "        bs = format(byte,'b')\n",
        "        if len(bs) < len(keyBin[i_key]):\n",
        "            bs = zerofill(bs,len(keyBin[i_key]))\n",
        "            \n",
        "        xx2 = xor2xor2(bs,keyBin[i_key])\n",
        "        bits_string=  ''.join(map(str, xx2))\n",
        "        \n",
        "        # esse if so funciona no caso desse exercicio\n",
        "        # por alguma razao, como boa parte das coisas tentei fazer handmade,\n",
        "        # por alguma razao ao trabalhar com os bits\n",
        "        # o python ao inves de colocar 0x0b 0x0a e 0x0c, ele coloca apenas\n",
        "        # 0xa 0xb 0xc. \n",
        "        # e esses bits que ele comeu fizeram falta na  resposta final. \n",
        "        # O codigo abaixo foi um remendo pra isso ai.\n",
        "\n",
        "        value = hex(int(bits_string,2))\n",
        "        carelist = ['0xa','0xb','0xc','0xd','0xe','0xf']\n",
        "        if value in carelist:\n",
        "            tmp = value.replace('0x', '')\n",
        "            value = '0x0' + tmp\n",
        "            \n",
        "        ans += value\n",
        "        # seta o index da key\n",
        "        if (i_key ) == 2 :\n",
        "            i_key = 0\n",
        "        else :\n",
        "            i_key += 1 \n",
        "    return ans\n",
        "\n",
        "v = ch5(str1,key).replace('0x', '')\n",
        "print(v)\n",
        "\n",
        "expected = \"0b3637272a2b2e63622c2e69692a23693a2a3c6324202d623d63343c2a26226324\\\n",
        "272765272a282b2f20430a652e2c652a3124333a653e2b2027630c692b20283165286326302e27\\\n",
        "282f\"\n",
        "assert(v == expected)\n",
        "\n",
        "# A minha resposta tinha 3 bits de diferença da original, e eu passei boas 3\n",
        "# horas tentando entender o porque\n",
        "# basicamente, como eu fiz tudo handmade - ou quase tudo- o python ao inves de\n",
        "# colocar  e 0x0b 0x0a e 0x0c, ele coloca apenas 0xa 0xb 0xc, e os 3 zeros que \n",
        "# ele 'come' são os que estavam faltando. Por isso fiz a solucao (gambiarra) do \n",
        "# carelist\n",
        "\n"
      ],
      "execution_count": 0,
      "outputs": [
        {
          "output_type": "stream",
          "text": [
            "0b3637272a2b2e63622c2e69692a23693a2a3c6324202d623d63343c2a26226324272765272a282b2f20430a652e2c652a3124333a653e2b2027630c692b20283165286326302e27282f\n"
          ],
          "name": "stdout"
        }
      ]
    },
    {
      "cell_type": "code",
      "metadata": {
        "id": "Tdi9EJ1dPtr5",
        "colab_type": "code",
        "colab": {}
      },
      "source": [
        ""
      ],
      "execution_count": 0,
      "outputs": []
    }
  ]
}